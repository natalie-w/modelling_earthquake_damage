{
 "cells": [
  {
   "cell_type": "code",
   "execution_count": 45,
   "metadata": {},
   "outputs": [],
   "source": [
    "import pandas as pd\n",
    "from sklearn.model_selection import train_test_split\n",
    "import lightgbm as lgb\n",
    "from lightgbm import LGBMModel,LGBMClassifier\n",
    "from sklearn import metrics"
   ]
  },
  {
   "cell_type": "code",
   "execution_count": 59,
   "metadata": {},
   "outputs": [],
   "source": [
    "train = pd.read_csv(\"dataset/train_values.csv\")\n",
    "train_labels = pd.read_csv(\"dataset/train_labels.csv\")\n",
    "sub = pd.read_csv(\"dataset/test_values.csv\")"
   ]
  },
  {
   "cell_type": "code",
   "execution_count": 60,
   "metadata": {},
   "outputs": [],
   "source": [
    "# only select numeric columns and remove building id\n",
    "\n",
    "easy_train = train.select_dtypes(include='int64').drop([\"building_id\"], axis=1)\n",
    "easy_sub = sub.select_dtypes(include='int64').drop([\"building_id\"], axis=1)\n",
    "train_labels = train_labels.drop([\"building_id\"], axis=1)"
   ]
  },
  {
   "cell_type": "code",
   "execution_count": 61,
   "metadata": {},
   "outputs": [],
   "source": [
    "# split into train test \n",
    "\n",
    "X_train, X_test, y_train, y_test = train_test_split(easy_train, train_labels, test_size=0.10, random_state=42)"
   ]
  },
  {
   "cell_type": "code",
   "execution_count": null,
   "metadata": {},
   "outputs": [],
   "source": []
  },
  {
   "cell_type": "code",
   "execution_count": 70,
   "metadata": {},
   "outputs": [],
   "source": [
    "# load into lgb dataset and specify categorical features\n",
    "\n",
    "train_data = lgb.Dataset(X_train, label=y_train\n",
    "#                         feature_name=\n",
    "#                          ['building_id',\n",
    "#                          'geo_level_1_id',\n",
    "#                          'geo_level_2_id',\n",
    "#                          'geo_level_3_id',\n",
    "#                          'count_floors_pre_eq',\n",
    "#                          'age',\n",
    "#                          'area_percentage',\n",
    "#                          'height_percentage',\n",
    "#                          'has_superstructure_adobe_mud',\n",
    "#                          'has_superstructure_mud_mortar_stone',\n",
    "#                          'has_superstructure_stone_flag',\n",
    "#                          'has_superstructure_cement_mortar_stone',\n",
    "#                          'has_superstructure_mud_mortar_brick',\n",
    "#                          'has_superstructure_cement_mortar_brick',\n",
    "#                          'has_superstructure_timber',\n",
    "#                          'has_superstructure_bamboo',\n",
    "#                          'has_superstructure_rc_non_engineered',\n",
    "#                          'has_superstructure_rc_engineered',\n",
    "#                          'has_superstructure_other',\n",
    "#                          'count_families',\n",
    "#                          'has_secondary_use',\n",
    "#                          'has_secondary_use_agriculture',\n",
    "#                          'has_secondary_use_hotel',\n",
    "#                          'has_secondary_use_rental',\n",
    "#                          'has_secondary_use_institution',\n",
    "#                          'has_secondary_use_school',\n",
    "#                          'has_secondary_use_industry',\n",
    "#                          'has_secondary_use_health_post',\n",
    "#                          'has_secondary_use_gov_office',\n",
    "#                          'has_secondary_use_use_police',\n",
    "#                          'has_secondary_use_other']\n",
    "#                         categorical_feature=\n",
    "#                         ['land_surface_condition',\n",
    "#                          'foundation_type',\n",
    "#                          'roof_type',\n",
    "#                          'ground_floor_type',\n",
    "#                          'other_floor_type',\n",
    "#                          'position',\n",
    "#                          'plan_configuration',\n",
    "#                          'legal_ownership_status']\n",
    "                        )"
   ]
  },
  {
   "cell_type": "code",
   "execution_count": 71,
   "metadata": {},
   "outputs": [],
   "source": [
    "validation_data = lgb.Dataset(X_test, label=y_test)"
   ]
  },
  {
   "cell_type": "code",
   "execution_count": 72,
   "metadata": {},
   "outputs": [],
   "source": [
    "# set params\n",
    "\n",
    "params = {\n",
    "    \"max_depth\" : 5,\n",
    "    \"num_leaves\" : 31,\n",
    "}"
   ]
  },
  {
   "cell_type": "code",
   "execution_count": 77,
   "metadata": {},
   "outputs": [],
   "source": [
    "num_round = 10\n",
    "\n",
    "\n",
    "# practice = lgb.train(params, train_data, num_round, valid_sets = [validation_data])\n",
    "\n",
    "lgb = LGBMClassifier(n_estimators=90, \n",
    "                      silent=False, \n",
    "                      random_state=43\n",
    "                     )"
   ]
  },
  {
   "cell_type": "code",
   "execution_count": 80,
   "metadata": {},
   "outputs": [
    {
     "data": {
      "text/plain": [
       "LGBMClassifier(boosting_type='gbdt', class_weight=None, colsample_bytree=1.0,\n",
       "               importance_type='split', learning_rate=0.1, max_depth=-1,\n",
       "               min_child_samples=20, min_child_weight=0.001, min_split_gain=0.0,\n",
       "               n_estimators=90, n_jobs=-1, num_leaves=31, objective=None,\n",
       "               random_state=43, reg_alpha=0.0, reg_lambda=0.0, silent=False,\n",
       "               subsample=1.0, subsample_for_bin=200000, subsample_freq=0)"
      ]
     },
     "execution_count": 80,
     "metadata": {},
     "output_type": "execute_result"
    }
   ],
   "source": [
    "lgb.fit(X_train, y_train)"
   ]
  },
  {
   "cell_type": "code",
   "execution_count": 82,
   "metadata": {},
   "outputs": [],
   "source": [
    "pred = lgb.predict(X_test)"
   ]
  },
  {
   "cell_type": "code",
   "execution_count": 91,
   "metadata": {},
   "outputs": [
    {
     "data": {
      "text/plain": [
       "0.7141717961069708"
      ]
     },
     "execution_count": 91,
     "metadata": {},
     "output_type": "execute_result"
    }
   ],
   "source": [
    "metrics.f1_score(pred, y_test, average=\"weighted\")"
   ]
  },
  {
   "cell_type": "code",
   "execution_count": 95,
   "metadata": {},
   "outputs": [],
   "source": [
    "# predict with lgb\n",
    "\n",
    "lgb_prediction = lgb.predict(easy_sub)"
   ]
  },
  {
   "cell_type": "markdown",
   "metadata": {},
   "source": [
    "# Naive Prediction with LGBM"
   ]
  },
  {
   "cell_type": "code",
   "execution_count": 93,
   "metadata": {},
   "outputs": [],
   "source": [
    "submission = pd.read_csv(\"dataset/submission_format.csv\")"
   ]
  },
  {
   "cell_type": "code",
   "execution_count": 94,
   "metadata": {},
   "outputs": [
    {
     "data": {
      "text/html": [
       "<div>\n",
       "<style scoped>\n",
       "    .dataframe tbody tr th:only-of-type {\n",
       "        vertical-align: middle;\n",
       "    }\n",
       "\n",
       "    .dataframe tbody tr th {\n",
       "        vertical-align: top;\n",
       "    }\n",
       "\n",
       "    .dataframe thead th {\n",
       "        text-align: right;\n",
       "    }\n",
       "</style>\n",
       "<table border=\"1\" class=\"dataframe\">\n",
       "  <thead>\n",
       "    <tr style=\"text-align: right;\">\n",
       "      <th></th>\n",
       "      <th>building_id</th>\n",
       "      <th>damage_grade</th>\n",
       "    </tr>\n",
       "  </thead>\n",
       "  <tbody>\n",
       "    <tr>\n",
       "      <th>0</th>\n",
       "      <td>300051</td>\n",
       "      <td>1</td>\n",
       "    </tr>\n",
       "    <tr>\n",
       "      <th>1</th>\n",
       "      <td>99355</td>\n",
       "      <td>1</td>\n",
       "    </tr>\n",
       "    <tr>\n",
       "      <th>2</th>\n",
       "      <td>890251</td>\n",
       "      <td>1</td>\n",
       "    </tr>\n",
       "    <tr>\n",
       "      <th>3</th>\n",
       "      <td>745817</td>\n",
       "      <td>1</td>\n",
       "    </tr>\n",
       "    <tr>\n",
       "      <th>4</th>\n",
       "      <td>421793</td>\n",
       "      <td>1</td>\n",
       "    </tr>\n",
       "  </tbody>\n",
       "</table>\n",
       "</div>"
      ],
      "text/plain": [
       "   building_id  damage_grade\n",
       "0       300051             1\n",
       "1        99355             1\n",
       "2       890251             1\n",
       "3       745817             1\n",
       "4       421793             1"
      ]
     },
     "execution_count": 94,
     "metadata": {},
     "output_type": "execute_result"
    }
   ],
   "source": [
    "submission.head()"
   ]
  },
  {
   "cell_type": "code",
   "execution_count": 96,
   "metadata": {},
   "outputs": [],
   "source": [
    "submission[\"damage_grade\"] = lgb_prediction"
   ]
  },
  {
   "cell_type": "code",
   "execution_count": 99,
   "metadata": {},
   "outputs": [],
   "source": [
    "submission.to_csv(\"submissions/naive_lgb_submission.csv\", index=False)"
   ]
  },
  {
   "cell_type": "code",
   "execution_count": null,
   "metadata": {},
   "outputs": [],
   "source": []
  }
 ],
 "metadata": {
  "kernelspec": {
   "display_name": "Python 3",
   "language": "python",
   "name": "python3"
  },
  "language_info": {
   "codemirror_mode": {
    "name": "ipython",
    "version": 3
   },
   "file_extension": ".py",
   "mimetype": "text/x-python",
   "name": "python",
   "nbconvert_exporter": "python",
   "pygments_lexer": "ipython3",
   "version": "3.7.3"
  }
 },
 "nbformat": 4,
 "nbformat_minor": 4
}
